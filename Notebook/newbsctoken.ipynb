{
 "cells": [
  {
   "cell_type": "code",
   "execution_count": 2,
   "id": "4ff1ec06",
   "metadata": {},
   "outputs": [],
   "source": [
    "import requests # Importing the requests library for making HTTP requests\n",
    "import pandas as pd # Importing pandas for data manipulation and analysis\n",
    "import json # Importing json for handling JSON data\n",
    "import os # Importing os for operating system dependent functionality\n",
    "from dotenv import load_dotenv # Importing load_dotenv to load environment variables from a .env file"
   ]
  },
  {
   "cell_type": "code",
   "execution_count": 24,
   "id": "f4c77ce0",
   "metadata": {},
   "outputs": [],
   "source": [
    "# load the environment variables\n",
    "load_dotenv()\n",
    "\n",
    "# Use BscScan API key environment variable name for clarity\n",
    "BSCSCAN_API_KEY = os.getenv('BSCSCAN_API_KEY') or os.getenv('ETHERSCAN_API_KEY')\n",
    "\n",
    "if not BSCSCAN_API_KEY:\n",
    "    raise ValueError(\"Please set the BSCSCAN_API_KEY environment variable (or ETHERSCAN_API_KEY).\")\n"
   ]
  },
  {
   "cell_type": "code",
   "execution_count": 25,
   "id": "c01a9071",
   "metadata": {},
   "outputs": [],
   "source": [
    "# Use the BscScan API endpoint for BSC tokens\n",
    "bscscan_url = 'https://api.bscscan.com/api'"
   ]
  },
  {
   "cell_type": "code",
   "execution_count": 28,
   "id": "b3d707f3",
   "metadata": {},
   "outputs": [],
   "source": [
    "# Build parameters for BscScan 'tokensupply' action. Note: BscScan expects 'contractaddress' not 'address' or chainid/tag here.\n",
    "params = {\n",
    "    'module': 'stats',\n",
    "    'action': 'tokensupply',\n",
    "    'contractaddress': '0x000Ae314E2A2172a039B26378814C252734f556A',\n",
    "    'apikey': BSCSCAN_API_KEY\n",
    "}\n",
    "\n",
    "# Prepare the request but don't run it by default. Set DO_REQUEST = True to perform the live call.\n",
    "DO_REQUEST = False\n",
    "\n",
    "# Prepare a requests.PreparedRequest so we can clearly print the final URL\n",
    "req = requests.Request('GET', bscscan_url, params=params)\n",
    "prepared = req.prepare()\n",
    "request_url = prepared.url\n",
    "\n",
    "# Optional: perform the request if explicitly enabled\n",
    "if DO_REQUEST:\n",
    "    response = requests.Session().send(prepared)\n",
    "    response.raise_for_status()\n",
    "    data = response.json()\n",
    "else:\n",
    "    data = None"
   ]
  },
  {
   "cell_type": "code",
   "execution_count": 32,
   "id": "a128fc05",
   "metadata": {},
   "outputs": [
    {
     "name": "stdout",
     "output_type": "stream",
     "text": [
      "Prepared request URL:\n",
      "https://api.bscscan.com/api?module=stats&action=tokensupply&contractaddress=0x000Ae314E2A2172a039B26378814C252734f556A&apikey=KEMW5UP9M4VA2BF9WIYJ864HWD9FG1BCF1\n"
     ]
    }
   ],
   "source": [
    "# Ensure the prepared request URL (and data) exist. If not, rebuild them so this cell can be run independently.\n",
    "try:\n",
    "    request_url  # noqa: F821\n",
    "except NameError:\n",
    "    # Rebuild parameters and prepared URL without performing the live request\n",
    "    import os\n",
    "    from dotenv import load_dotenv\n",
    "    load_dotenv()\n",
    "    BSCSCAN_API_KEY = os.getenv('BSCSCAN_API_KEY') or os.getenv('ETHERSCAN_API_KEY') or '<MISSING_API_KEY>'\n",
    "    bscscan_url = 'https://api.bscscan.com/api'\n",
    "    params = {\n",
    "        'module': 'stats',\n",
    "        'action': 'tokensupply',\n",
    "        'contractaddress': '0x000Ae314E2A2172a039B26378814C252734f556A',\n",
    "        'apikey': BSCSCAN_API_KEY\n",
    "    }\n",
    "    req = requests.Request('GET', bscscan_url, params=params)\n",
    "    prepared = req.prepare()\n",
    "    request_url = prepared.url\n",
    "    data = None\n",
    "\n",
    "print('Prepared request URL:')\n",
    "print(request_url)\n"
   ]
  },
  {
   "cell_type": "code",
   "execution_count": 34,
   "id": "5c1fdccb",
   "metadata": {},
   "outputs": [
    {
     "ename": "SyntaxError",
     "evalue": "unterminated string literal (detected at line 7) (3469035517.py, line 7)",
     "output_type": "error",
     "traceback": [
      "  \u001b[36mCell\u001b[39m\u001b[36m \u001b[39m\u001b[32mIn[34]\u001b[39m\u001b[32m, line 7\u001b[39m\n\u001b[31m    \u001b[39m\u001b[31mprint('\u001b[39m\n          ^\n\u001b[31mSyntaxError\u001b[39m\u001b[31m:\u001b[39m unterminated string literal (detected at line 7)\n"
     ]
    }
   ],
   "source": [
    "# Print the API response if present, otherwise show guidance\n",
    "if data is not None:\n",
    "    print('')\n",
    "\n",
    "\n",
    "\n",
    "    print('\n",
    "No live request performed. Set DO_REQUEST = True in the cell that builds the request to perform the API call.')'\n",
    "'else:    print(json.dumps(data, indent=4))API Response:')"
   ]
  },
  {
   "cell_type": "code",
   "execution_count": 35,
   "id": "2caa830a",
   "metadata": {},
   "outputs": [
    {
     "name": "stdout",
     "output_type": "stream",
     "text": [
      "Prepared request URL:\n",
      "https://api.bscscan.com/api?module=stats&action=tokensupply&contractaddress=0x000Ae314E2A2172a039B26378814C252734f556A&apikey=KEMW5UP9M4VA2BF9WIYJ864HWD9FG1BCF1\n",
      "\n",
      "No live request performed. Set DO_REQUEST = True in the cell that builds the request to perform the API call.\n"
     ]
    }
   ],
   "source": [
    "# Ensure the prepared request URL (and data) exist. If not, rebuild them so this cell can be run independently.\n",
    "try:\n",
    "    request_url  # noqa: F821\n",
    "except NameError:\n",
    "    import os\n",
    "    import json\n",
    "    import requests\n",
    "    from dotenv import load_dotenv\n",
    "\n",
    "    # Load environment variables\n",
    "    load_dotenv()\n",
    "\n",
    "    # Fetch API key\n",
    "    BSCSCAN_API_KEY = (\n",
    "        os.getenv(\"BSCSCAN_API_KEY\")\n",
    "        or os.getenv(\"ETHERSCAN_API_KEY\")\n",
    "        or \"<MISSING_API_KEY>\"\n",
    "    )\n",
    "\n",
    "    # Prepare request details\n",
    "    bscscan_url = \"https://api.bscscan.com/api\"\n",
    "    params = {\n",
    "        \"module\": \"stats\",\n",
    "        \"action\": \"tokensupply\",\n",
    "        \"contractaddress\": \"0x000Ae314E2A2172a039B26378814C252734f556A\",\n",
    "        \"apikey\": BSCSCAN_API_KEY,\n",
    "    }\n",
    "\n",
    "    # Build the request without sending it\n",
    "    req = requests.Request(\"GET\", bscscan_url, params=params)\n",
    "    prepared = req.prepare()\n",
    "    request_url = prepared.url\n",
    "    data = None  # placeholder for API response if needed later\n",
    "\n",
    "# Display the prepared request URL\n",
    "print(\"Prepared request URL:\")\n",
    "print(request_url)\n",
    "\n",
    "# Show results if data exists; otherwise, print instructions\n",
    "if data is not None:\n",
    "    print(\"\\nAPI Response:\")\n",
    "    print(json.dumps(data, indent=4))\n",
    "else:\n",
    "    print(\"\\nNo live request performed. Set DO_REQUEST = True in the cell that builds the request to perform the API call.\")\n"
   ]
  }
 ],
 "metadata": {
  "kernelspec": {
   "display_name": "tokenscanbsc",
   "language": "python",
   "name": "python3"
  },
  "language_info": {
   "codemirror_mode": {
    "name": "ipython",
    "version": 3
   },
   "file_extension": ".py",
   "mimetype": "text/x-python",
   "name": "python",
   "nbconvert_exporter": "python",
   "pygments_lexer": "ipython3",
   "version": "3.13.7"
  }
 },
 "nbformat": 4,
 "nbformat_minor": 5
}
